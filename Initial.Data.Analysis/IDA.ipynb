{
  "cells": [
    {
      "cell_type": "markdown",
      "metadata": {
        "id": "TzrddZIGO_5f"
      },
      "source": [
        "\n",
        "# Initial Data Analysis ( IDA )\n",
        "\n",
        "\n",
        "- [PLOS CompBio on IDA](https://journals.plos.org/ploscompbiol/article?id=10.1371/journal.pcbi.1009819)\n",
        "\n",
        "- [Data Analysis](https://en.wikipedia.org/wiki/Data_analysis) with a section on [IDA](https://en.wikipedia.org/wiki/Data_analysis#Initial_data_analysis).\n",
        "\n",
        "- [Notebooks on GitHub](https://github.com/rwcitek/MyBinder.demo)\n",
        "\n",
        "- [Mito for Jupyter](https://towardsdatascience.com/the-mito-jupyterlab-extension-a-spreadsheet-that-generates-python-b25d2c447d48)\n",
        "\n"
      ]
    },
    {
      "attachments": {},
      "cell_type": "markdown",
      "metadata": {},
      "source": [
        "## Setup"
      ]
    },
    {
      "attachments": {},
      "cell_type": "markdown",
      "metadata": {},
      "source": [
        "Get some data files."
      ]
    },
    {
      "cell_type": "code",
      "execution_count": 1,
      "metadata": {
        "vscode": {
          "languageId": "python"
        }
      },
      "outputs": [],
      "source": [
        "!curl -s 'http://data.cabq.gov/business/busregistration/BusinessRegistrationCABQ-en-us.csv'"
      ]
    },
    {
      "cell_type": "code",
      "execution_count": null,
      "metadata": {
        "vscode": {
          "languageId": "python"
        }
      },
      "outputs": [],
      "source": [
        "!curl -s 'http://data.cabq.gov/business/busregistration/BusinessRegistrationCABQ-en-us.xml'"
      ]
    },
    {
      "attachments": {},
      "cell_type": "markdown",
      "metadata": {},
      "source": [
        "## Linux commands for IDA"
      ]
    },
    {
      "attachments": {},
      "cell_type": "markdown",
      "metadata": {},
      "source": [
        "Useful commands to get familiar with your data.\n",
        "This assumes your data is in a file.\n",
        "See later commands if your file is remote, e.g. on a web server."
      ]
    },
    {
      "attachments": {},
      "cell_type": "markdown",
      "metadata": {},
      "source": [
        "- ls\n",
        "- file\n",
        "- wc\n",
        "- find"
      ]
    },
    {
      "cell_type": "code",
      "execution_count": null,
      "metadata": {
        "id": "eX4JFY_b_O6z",
        "vscode": {
          "languageId": "python"
        }
      },
      "outputs": [],
      "source": [
        "!ls -la"
      ]
    },
    {
      "cell_type": "code",
      "execution_count": null,
      "metadata": {
        "vscode": {
          "languageId": "python"
        }
      },
      "outputs": [],
      "source": []
    }
  ],
  "metadata": {
    "colab": {
      "authorship_tag": "ABX9TyO4lJ2EwFthdv7DgK5qGehL",
      "provenance": []
    },
    "kernelspec": {
      "display_name": "Python 3 (ipykernel)",
      "language": "python",
      "name": "python3"
    }
  },
  "nbformat": 4,
  "nbformat_minor": 0
}
